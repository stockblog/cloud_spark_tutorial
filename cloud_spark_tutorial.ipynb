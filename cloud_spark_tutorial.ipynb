{
 "cells": [
  {
   "cell_type": "raw",
   "id": "7ef3d7a3-9f1e-4bf9-977c-131a6f673a44",
   "metadata": {},
   "source": [
    "Для успешной работы с данной тетрадкой необходимо создать инстанс Spark k8s в ML Platform\n",
    "и получить токен в ЛК VK Cloud в разделе Токены ML Platform.\n",
    "Далее необходимо установить клиентскую библиотеку для работы с сервисом.\n",
    "Библиотека устанавливается с помощью команды в следующей cell\n",
    "pip install https://mlplatform.hb.ru-msk.vkcs.cloud/mlplatform_client.tar.gz\n",
    "\n",
    "Документация:\n",
    "https://mcs.mail.ru/docs/ml/spark-to-k8s "
   ]
  },
  {
   "cell_type": "code",
   "execution_count": null,
   "id": "24cc27e9-d9cd-44b8-a79c-62cf91f12551",
   "metadata": {
    "tags": []
   },
   "outputs": [],
   "source": [
    "!pip install https://mlplatform.hb.ru-msk.vkcs.cloud/mlplatform_client.tar.gz"
   ]
  },
  {
   "cell_type": "raw",
   "id": "f76c4201-b4ce-4240-8b17-bb60abe74100",
   "metadata": {},
   "source": [
    "Перезагрузите kernel после установки библиотеки\n",
    "Kernel -> Restart Kernel..."
   ]
  },
  {
   "cell_type": "code",
   "execution_count": null,
   "id": "8953cda6-9b54-4ef7-8690-2a8821ad7726",
   "metadata": {
    "tags": []
   },
   "outputs": [],
   "source": [
    "import os\n",
    "from mlplatform_client import MLPlatform\n",
    "\n",
    "#Задаем токен\n",
    "#Самый первый токен с правами Администратора нужно получить в ЛК VK Cloud, \n",
    "#далее токенами можно управлять с помощью библиотеки\n",
    "REFRESH_TOKEN = \"REPLACE_WITH_YOUR_TOKEN\"\n",
    "mlp = MLPlatform(refresh_token=REFRESH_TOKEN)\n",
    "\n",
    "#Получаем список кластеров\n",
    "clusters = mlp.get_clusters()\n",
    "\n",
    "#Выводим детальную информацию по кластерам\n",
    "print(clusters)\n",
    "print(8*\"*\")\n",
    "\n",
    "#К различным параметрам можно обращаться из кода, что позволяет строить автоматические пайплайны\n",
    "CLUSTER_ID = clusters[0].id\n",
    "BUCKET_NAME = clusters[0].s3_bucket_name\n",
    " \n",
    "print(CLUSTER_ID)\n",
    "print(BUCKET_NAME)"
   ]
  },
  {
   "cell_type": "code",
   "execution_count": null,
   "id": "743007ac-0745-4350-a7d8-e385536447d6",
   "metadata": {
    "tags": []
   },
   "outputs": [],
   "source": [
    "#Получаем информацию о токене, который используем\n",
    "mlp.who_am_i()"
   ]
  },
  {
   "cell_type": "code",
   "execution_count": null,
   "id": "c21a0e68-ec5a-4b0b-9b8e-8e2e39ea780c",
   "metadata": {
    "tags": []
   },
   "outputs": [],
   "source": [
    "#Так можно получить информацию о всех токенах в проекте\n",
    "mlp.get_project_tokens_info()"
   ]
  },
  {
   "cell_type": "code",
   "execution_count": null,
   "id": "b621b7a6-a391-44ff-b302-c95371e480f1",
   "metadata": {
    "tags": []
   },
   "outputs": [],
   "source": [
    "#Задаем имя нового приложения для запуска\n",
    "#Каждое новое Spark приложение, запускаемое на кластере, должно иметь уникальное имя\n",
    "#При попытке запустить несколько приложений с одним именем вы получите ошибку\n",
    "#Для исправления смените имя приложения с помощью метода client_manifest.job_name = 'new-app-name'\n",
    "JOB_NAME = \"spark-pi-1\"\n",
    "\n",
    "#Получаем манифест и задаем имя приложения\n",
    "client_manifest = mlp.get_default_manifest(cluster_id=CLUSTER_ID, job_name=JOB_NAME)\n",
    "\n",
    "#Меняем дефолтные параметры на желаемые\n",
    "client_manifest.set_executor_settings(\n",
    "    {\"instances\": 1, \"cores\":1}\n",
    ")\n",
    "\n",
    "#Задаем имя файла для запуска. Данный файл включен в докер образ по умолчанию для тестовых целей.\n",
    "client_manifest.main_app_file=\"local:///opt/spark/examples/src/main/python/pi.py\""
   ]
  },
  {
   "cell_type": "code",
   "execution_count": null,
   "id": "3777f752-f836-4295-9799-66b24f63e70b",
   "metadata": {
    "tags": []
   },
   "outputs": [],
   "source": [
    "#Выводим манифест и проверяем настройки\n",
    "print(client_manifest)"
   ]
  },
  {
   "cell_type": "code",
   "execution_count": null,
   "id": "2fb52e16-3d8f-41dd-a21d-4f65f5ad7801",
   "metadata": {
    "tags": []
   },
   "outputs": [],
   "source": [
    "#Запускам Spark приложение\n",
    "mlp.spark_submit_job(cluster_id=CLUSTER_ID, manifest=client_manifest)"
   ]
  },
  {
   "cell_type": "code",
   "execution_count": null,
   "id": "f7a50b14-9bda-47e8-bee6-e2fdc5ee6beb",
   "metadata": {
    "tags": []
   },
   "outputs": [],
   "source": [
    "#Получаем информацию о запущенном приложении\n",
    "#На этом этапе можно получить ошибку. В случае ошибки подождите 30-60 секунд и перезапустите cell\n",
    "#Ошибка может быть связана с тем, что ваше приложение еще не успело запуститься \n",
    "#соответственно библиотека не может получить информацию о приложении\n",
    "\n",
    "job_info = mlp.spark_job_info(CLUSTER_ID, JOB_NAME)\n",
    "print(job_info)\n",
    "print(job_info.pod_status)\n",
    "print(job_info.pod_status_reason)\n",
    "print(job_info.pod_state)\n",
    "print(job_info.pod_state_reason)\n",
    "print(job_info.pod_state_reason_message)"
   ]
  },
  {
   "cell_type": "code",
   "execution_count": null,
   "id": "b60a40b9-f16a-47af-a0bf-451f5b93b823",
   "metadata": {
    "tags": []
   },
   "outputs": [],
   "source": [
    "#Выводим список всех запущенных приложений\n",
    "print('\\nСписок всех запущенных приложений')\n",
    "all_jobs = mlp.spark_jobs_list(CLUSTER_ID)\n",
    "print(all_jobs)"
   ]
  },
  {
   "cell_type": "code",
   "execution_count": null,
   "id": "b7cfbf63-5766-4581-95cf-783eb969292c",
   "metadata": {
    "tags": []
   },
   "outputs": [],
   "source": [
    "#Получаем список событий на кластере. Необходимо для поиска ошибок, понимания текущего состояния кластера\n",
    "events = mlp.spark_events(CLUSTER_ID)\n",
    "print(events)"
   ]
  },
  {
   "cell_type": "code",
   "execution_count": null,
   "id": "c3b1623f-9812-442c-bc81-59fa96daa9ed",
   "metadata": {
    "tags": []
   },
   "outputs": [],
   "source": [
    "#Выводим логи нужного приложения\n",
    "logs = mlp.spark_job_logs(cluster_id=CLUSTER_ID, job_name=JOB_NAME)\n",
    "print(logs)"
   ]
  },
  {
   "cell_type": "code",
   "execution_count": null,
   "id": "aded70f3-1667-4129-83b6-cba936d7d8ad",
   "metadata": {
    "tags": []
   },
   "outputs": [],
   "source": [
    "#Меняем имя приложения\n",
    "JOB_NAME = 'spark-pi-2'\n",
    "client_manifest.job_name = JOB_NAME\n",
    "\n",
    "#Меняем дефолтные параметры на желаемые\n",
    "#Меняем число Spark executors и параметры executors\n",
    "client_manifest.set_executor_settings(\n",
    "    {\"instances\": 2, \"coreRequest\": \"1000m\", \"coreLimit\": \"3000m\", \"memory\":\"1024m\"}\n",
    ")\n",
    "\n",
    "#меняем настройки Spark driver\n",
    "client_manifest.set_driver_settings(\n",
    "    {\"coreLimit\": \"2\", \"coreRequest\": \"1000m\", \"coreLimit\": \"3000m\", \"memory\":\"1024m\"}\n",
    ")\n",
    "\n",
    "#Сохраняем манифест для редактирования в будущем или для загрузки в случае повторного использования\n",
    "client_manifest.save_yaml(\"test_app.yaml\")\n",
    "\n",
    "#Загружаем манифест из из yaml файла\n",
    "client_manifest = mlp.get_manifest_from_yaml_file(yaml_file_path=\"test_app.yaml\")"
   ]
  },
  {
   "cell_type": "code",
   "execution_count": null,
   "id": "8c408359-7ebc-4393-a176-ba0288393223",
   "metadata": {
    "tags": []
   },
   "outputs": [],
   "source": [
    "print(client_manifest)"
   ]
  },
  {
   "cell_type": "code",
   "execution_count": null,
   "id": "4a86bc07-1248-4fe2-bc61-7064b97d1808",
   "metadata": {
    "tags": []
   },
   "outputs": [],
   "source": [
    "#Запускам Spark приложение на основе загруженного манифеста\n",
    "mlp.spark_submit_job(cluster_id=CLUSTER_ID, manifest=client_manifest)"
   ]
  },
  {
   "cell_type": "code",
   "execution_count": null,
   "id": "b3c2e33c-6e78-4434-adf7-f5fcb2933e41",
   "metadata": {
    "tags": []
   },
   "outputs": [],
   "source": [
    "#Получаем список событий на кластере. Необходимо для поиска ошибок, понимания текущего состояния кластера\n",
    "events = mlp.spark_events(CLUSTER_ID)\n",
    "print(events)"
   ]
  },
  {
   "cell_type": "code",
   "execution_count": null,
   "id": "2082ef85-c64a-4ba8-b88a-6f4d8b901d41",
   "metadata": {
    "tags": []
   },
   "outputs": [],
   "source": [
    "#Выводим логи приложения\n",
    "logs = mlp.spark_job_logs(cluster_id=CLUSTER_ID, job_name=JOB_NAME)\n",
    "print(logs)"
   ]
  },
  {
   "cell_type": "code",
   "execution_count": null,
   "id": "b1fa8d86-0900-4031-8b6e-a7f94dd04023",
   "metadata": {},
   "outputs": [],
   "source": []
  },
  {
   "cell_type": "code",
   "execution_count": null,
   "id": "86446091-b001-4345-9d9e-a2b654168ac5",
   "metadata": {},
   "outputs": [],
   "source": [
    "#Генерируем тестовый датасет и сохраняем его в S3\n",
    "JOB_NAME = 'email-gen-1'\n",
    "client_manifest.job_name = JOB_NAME\n",
    "\n",
    "#Меняем дефолтные параметры на желаемые\n",
    "#Меняем число Spark executors и параметры executors\n",
    "client_manifest.set_executor_settings(\n",
    "    {\"instances\": 2, \"coreRequest\": \"1000m\", \"coreLimit\": \"2000m\", \"memory\":\"1024m\"}\n",
    ")\n",
    "\n",
    "#меняем настройки Spark driver\n",
    "client_manifest.set_driver_settings(\n",
    "    {\"coreRequest\": \"1000m\", \"coreLimit\": \"2000m\", \"memory\":\"1024m\"}\n",
    ")\n",
    "\n",
    "mlp.spark_submit_job(cluster_id=CLUSTER_ID, manifest=client_manifest, pycode_file_path=\"email_generation.py\")\n",
    "\n",
    "#Сохраняем манифест для редактирования в будущем или для загрузки в случае повторного использования\n",
    "client_manifest.save_yaml(\"email_gen.yaml\")"
   ]
  },
  {
   "cell_type": "code",
   "execution_count": null,
   "id": "771ec2c2-c13a-4ac3-927a-d48ceb4762e1",
   "metadata": {},
   "outputs": [],
   "source": [
    "#Получаем список событий на кластере\n",
    "events = mlp.spark_events(CLUSTER_ID)\n",
    "print(events)"
   ]
  },
  {
   "cell_type": "code",
   "execution_count": null,
   "id": "bfd464b4-4ae4-4130-a28c-c23149429125",
   "metadata": {},
   "outputs": [],
   "source": [
    "#Выводим логи приложения\n",
    "logs = mlp.spark_job_logs(cluster_id=CLUSTER_ID, job_name=JOB_NAME)\n",
    "print(logs)"
   ]
  },
  {
   "cell_type": "code",
   "execution_count": null,
   "id": "e9077596-c551-463f-bfb3-5b4ffc2f87d5",
   "metadata": {
    "tags": []
   },
   "outputs": [],
   "source": [
    "#Выводим список всех запущенных приложений\n",
    "print('\\nСписок всех запущенных приложений')\n",
    "all_jobs = mlp.spark_jobs_list(CLUSTER_ID)\n",
    "print(all_jobs)"
   ]
  },
  {
   "cell_type": "code",
   "execution_count": null,
   "id": "446b9cf2-e1df-418e-9c46-b8962c981e2c",
   "metadata": {
    "tags": []
   },
   "outputs": [],
   "source": [
    "#Если приложение упало с ошибкой, его можно удалить и запустить заново после правок\n",
    "#mlp.spark_delete_job(cluster_id=CLUSTER_ID, job_name=JOB_NAME)"
   ]
  },
  {
   "cell_type": "code",
   "execution_count": null,
   "id": "993f6703-a6de-4f15-b3ed-fdb2e2b96652",
   "metadata": {},
   "outputs": [],
   "source": []
  },
  {
   "cell_type": "code",
   "execution_count": null,
   "id": "9726bc50-aa12-436f-8e6c-102f0c6a64eb",
   "metadata": {},
   "outputs": [],
   "source": [
    "#Env, S3\n",
    "#Параметризуем наше приложение для генерирования датасета\n",
    "#Не хардкодим путь для записи в S3, указываем его как переменную окружения"
   ]
  },
  {
   "cell_type": "code",
   "execution_count": null,
   "id": "e863c9fa-ed12-404c-bbce-25f2dc4d572e",
   "metadata": {},
   "outputs": [],
   "source": [
    "#Меняем имя приложения\n",
    "JOB_NAME = 'email-gen-env-1'\n",
    "client_manifest = mlp.get_default_manifest(cluster_id=CLUSTER_ID, job_name=JOB_NAME)\n",
    "\n",
    "client_manifest.job_name = JOB_NAME\n",
    "\n",
    "#Меняем дефолтные параметры на желаемые\n",
    "#Меняем число Spark executors и параметры executors\n",
    "client_manifest.set_executor_settings(\n",
    "    {\"instances\": 2, \"coreRequest\": \"1000m\", \"coreLimit\": \"2000m\", \"memory\":\"1024m\"}\n",
    ")\n",
    "\n",
    "#меняем настройки Spark driver\n",
    "client_manifest.set_driver_settings(\n",
    "    {\"coreRequest\": \"1000m\", \"coreLimit\": \"2000m\", \"memory\":\"1024m\"}\n",
    ")\n",
    "\n",
    "#Задаем переменные окружения для driver\n",
    "client_manifest.add_driver_env(\n",
    "    [{\"name\": \"S3_WRITE_PATH\", \"value\": \"s3a://REPLACE_WITH_YOUR_BUCKET/datasets/email_env\"}]\n",
    ")\n",
    "\n",
    "#Задаем переменные окружения для executors\n",
    "client_manifest.add_executor_env(\n",
    "    [{\"name\": \"S3_WRITE_PATH\", \"value\": \"s3a://REPLACE_WITH_YOUR_BUCKET/datasets/email_env\"}]\n",
    ")\n",
    "\n",
    "#Имя бакета, подключенного по умолчанию к данному кластеру Spark можно найти с помощью команд или в UI VK Cloud\n",
    "#Получаем список кластеров\n",
    "#clusters = mlp.get_clusters()\n",
    "#BUCKET_NAME = clusters[0].s3_bucket_name\n",
    "#print(BUCKET_NAME)\n",
    "\n",
    "\n",
    "#Указываем файл для запуска приложения в S3\n",
    "#Предварительно нужно сохранить файл email_generation_env.py в S3\n",
    "client_manifest.main_app_file = f\"s3a://REPLACE_WITH_YOUR_BUCKET/spark-files/email_generation_env.py\"\n",
    "\n",
    "mlp.spark_submit_job(cluster_id=CLUSTER_ID, manifest=client_manifest)\n",
    "\n",
    "#Сохраняем манифест для редактирования в будущем или для загрузки в случае повторного использования\n",
    "#client_manifest.save_yaml(\"email_gen_env.yaml\")"
   ]
  },
  {
   "cell_type": "code",
   "execution_count": null,
   "id": "00165437-1c0b-4a29-8c87-0b224b510e60",
   "metadata": {
    "tags": []
   },
   "outputs": [],
   "source": [
    "#print(client_manifest)"
   ]
  },
  {
   "cell_type": "code",
   "execution_count": null,
   "id": "5a60829b-9b6a-4a46-b627-556a9de53e07",
   "metadata": {
    "tags": []
   },
   "outputs": [],
   "source": [
    "#Выводим логи приложения\n",
    "logs = mlp.spark_job_logs(cluster_id=CLUSTER_ID, job_name=JOB_NAME)\n",
    "print(logs)"
   ]
  },
  {
   "cell_type": "code",
   "execution_count": null,
   "id": "285a3ada-c297-4d73-ac0e-3400464e87de",
   "metadata": {
    "tags": []
   },
   "outputs": [],
   "source": [
    "#Выводим список всех запущенных приложений\n",
    "print('\\nСписок всех запущенных приложений')\n",
    "all_jobs = mlp.spark_jobs_list(CLUSTER_ID)\n",
    "print(all_jobs)"
   ]
  },
  {
   "cell_type": "code",
   "execution_count": null,
   "id": "bfcec4c9-4fd0-4c20-8b14-e2c2ce047ee9",
   "metadata": {},
   "outputs": [],
   "source": [
    "#mlp.spark_delete_job(cluster_id=CLUSTER_ID, job_name=JOB_NAME)"
   ]
  },
  {
   "cell_type": "code",
   "execution_count": null,
   "id": "7b5ebcc5-5b84-4cd9-8e9c-b73bfa442940",
   "metadata": {
    "tags": []
   },
   "outputs": [],
   "source": []
  },
  {
   "cell_type": "code",
   "execution_count": null,
   "id": "f25e5854-4834-4a61-9cf9-5843ac98bc91",
   "metadata": {},
   "outputs": [],
   "source": []
  },
  {
   "cell_type": "code",
   "execution_count": null,
   "id": "28a7d812-eaf8-4d3e-8571-5899371db7f7",
   "metadata": {},
   "outputs": [],
   "source": [
    "#S3, ClickHouse\n",
    "#Продолжаем добавлять параметры, учимся добавлять зависимости для работы, например, с ClickHouse\n",
    "#Для данного примера мы создаем инстанс ClickHouse в UI VK Cloud\n",
    "https://cloud.vk.com/docs/ru/dbs/dbaas\n",
    "https://cloud.vk.com/docs/ru/dbs/dbaas/instructions/create/create-single-replica "
   ]
  },
  {
   "cell_type": "code",
   "execution_count": null,
   "id": "ba04af75-2744-4da0-8e22-bbb387eef790",
   "metadata": {
    "tags": []
   },
   "outputs": [],
   "source": [
    "#Меняем имя приложения\n",
    "JOB_NAME = 'email-to-s3-ch-1'\n",
    "client_manifest = mlp.get_default_manifest(cluster_id=CLUSTER_ID, job_name=JOB_NAME)\n",
    "\n",
    "client_manifest.job_name = JOB_NAME\n",
    "\n",
    "#Меняем дефолтные параметры на желаемые\n",
    "#Меняем число Spark executors и параметры executors\n",
    "client_manifest.set_executor_settings(\n",
    "    {\"instances\": 2, \"coreRequest\": \"1000m\", \"coreLimit\": \"2000m\", \"memory\":\"1024m\"}\n",
    ")\n",
    "\n",
    "#меняем настройки Spark driver\n",
    "client_manifest.set_driver_settings(\n",
    "    {\"coreRequest\": \"1000m\", \"coreLimit\": \"2000m\", \"memory\":\"1024m\"}\n",
    ")\n",
    "\n",
    "#Задаем переменные окружения для driver\n",
    "client_manifest.add_driver_env(\n",
    "    [\n",
    "        {\"name\": \"S3_INPUT_PATH\", \"value\": \"s3a://REPLACE_WITH_YOUR_BUCKET/datasets/email\"},\n",
    "        {\"name\": \"S3_OUTPUT_CORRECT_PATH\", \"value\": \"s3a://kREPLACE_WITH_YOUR_BUCKET/datasets/correct_email\"},\n",
    "        {\"name\": \"S3_OUTPUT_INCORRECT_PATH\", \"value\": \"s3a://REPLACE_WITH_YOUR_BUCKET/datasets/incorrect_email\"},\n",
    "        {\"name\": \"CH_OUTPUT_CORRECT_PATH\", \"value\": \"correct_emails\"}\n",
    "    ]\n",
    ")\n",
    "\n",
    "#Задаем переменные окружения для executors\n",
    "client_manifest.add_executor_env(\n",
    "    [\n",
    "        {\"name\": \"S3_INPUT_PATH\", \"value\": \"s3a://k8s-3c6cfde5e7796c-bucket/datasets/email\"},\n",
    "        {\"name\": \"S3_OUTPUT_CORRECT_PATH\", \"value\": \"s3a://REPLACE_WITH_YOUR_BUCKET/datasets/correct_email\"},\n",
    "        {\"name\": \"S3_OUTPUT_INCORRECT_PATH\", \"value\": \"s3a://REPLACE_WITH_YOUR_BUCKET/datasets/incorrect_email\"},\n",
    "        {\"name\": \"CH_OUTPUT_CORRECT_PATH\", \"value\": \"correct_emails\"}\n",
    "    ]\n",
    ")\n",
    "\n",
    "#Указываем файл для запуска приложения в S3\n",
    "client_manifest.main_app_file = f\"s3a://REPLACE_WITH_YOUR_BUCKET/spark-files/email_to_s3_ch.py\"\n",
    "\n",
    "# Добавим в зависимости jar-файл из s3-бакета\n",
    "#Jar необходимо заранее скопировать в бакет\n",
    "client_manifest.add_jars([\"s3a://REPLACE_WITH_YOUR_BUCKET/spark-files/clickhouse-jdbc-0.5.0-shaded.jar\"])\n",
    "\n",
    "mlp.spark_submit_job(\n",
    "    cluster_id=CLUSTER_ID, \n",
    "    manifest=client_manifest, \n",
    ")"
   ]
  },
  {
   "cell_type": "code",
   "execution_count": null,
   "id": "dea4b30d-28c9-46b4-bec6-4d90f600249f",
   "metadata": {
    "tags": []
   },
   "outputs": [],
   "source": [
    "#Выводим логи приложения\n",
    "logs = mlp.spark_job_logs(cluster_id=CLUSTER_ID, job_name=JOB_NAME)\n",
    "print(logs)"
   ]
  },
  {
   "cell_type": "code",
   "execution_count": null,
   "id": "c6933b4a-4170-4312-859d-e92dc86d56c2",
   "metadata": {},
   "outputs": [],
   "source": [
    "#Получаем список событий на кластере\n",
    "events = mlp.spark_events(CLUSTER_ID)\n",
    "print(events)"
   ]
  },
  {
   "cell_type": "code",
   "execution_count": null,
   "id": "fe15cba3-6db6-4d1b-bd0a-059d4e0cb279",
   "metadata": {
    "tags": []
   },
   "outputs": [],
   "source": [
    "#Выводим список всех запущенных приложений\n",
    "print('\\nСписок всех запущенных приложений')\n",
    "all_jobs = mlp.spark_jobs_list(CLUSTER_ID)\n",
    "print(all_jobs)"
   ]
  },
  {
   "cell_type": "code",
   "execution_count": null,
   "id": "9ee441fb-e7d3-4bf3-aa1e-e4c8512cd527",
   "metadata": {
    "tags": []
   },
   "outputs": [],
   "source": [
    "#mlp.spark_delete_job(cluster_id=CLUSTER_ID, job_name=JOB_NAME)"
   ]
  },
  {
   "cell_type": "code",
   "execution_count": null,
   "id": "a8dc0164-3ca4-49fb-8eb2-07730e61bc59",
   "metadata": {},
   "outputs": [],
   "source": []
  },
  {
   "cell_type": "code",
   "execution_count": null,
   "id": "ba945c78-757b-420a-863a-b1210a27fb17",
   "metadata": {},
   "outputs": [],
   "source": []
  },
  {
   "cell_type": "code",
   "execution_count": null,
   "id": "a479f70c-991e-4362-8d5e-0b889650fd37",
   "metadata": {},
   "outputs": [],
   "source": [
    "#Использование Secret для хранения Credentials\n",
    "#В данном примере мы учимся использовать Secret для хранения чувствительной информации, например, пароли"
   ]
  },
  {
   "cell_type": "code",
   "execution_count": null,
   "id": "3bee0689-f4c6-489d-a47e-7895347ee1bc",
   "metadata": {
    "tags": []
   },
   "outputs": [],
   "source": [
    "#Работа с Secrets\n",
    "#Получаем список Secrets в кластере\n",
    "mlp.list_secrets(cluster_id=CLUSTER_ID)"
   ]
  },
  {
   "cell_type": "code",
   "execution_count": null,
   "id": "90452d33-b658-4f52-9939-ec0bcbb567af",
   "metadata": {
    "tags": []
   },
   "outputs": [],
   "source": [
    "#Создаем Secret из yaml\n",
    "#Пример yaml можно найти в репозитории\n",
    "mlp.create_secret_from_yaml(cluster_id=CLUSTER_ID, secret_yaml_path='ch_cred.yaml')"
   ]
  },
  {
   "cell_type": "code",
   "execution_count": null,
   "id": "5301cd4a-b99c-4e94-bb19-a674221335b6",
   "metadata": {
    "tags": []
   },
   "outputs": [],
   "source": [
    "#Получаем информацию о созданном Secret\n",
    "mlp.get_secret_detail(cluster_id=CLUSTER_ID, secret_name='ch-secret')"
   ]
  },
  {
   "cell_type": "code",
   "execution_count": null,
   "id": "a88ef860-06cc-4d9f-af6d-1f36e878d72c",
   "metadata": {
    "tags": []
   },
   "outputs": [],
   "source": [
    "#Удаляем Secret, если необходимо\n",
    "#mlp.delete_secret(cluster_id=CLUSTER_ID, secret_name='ch-secret')"
   ]
  },
  {
   "cell_type": "code",
   "execution_count": null,
   "id": "86bd375c-1411-4d7c-b046-f361ed027e0f",
   "metadata": {
    "tags": []
   },
   "outputs": [],
   "source": [
    "#Меняем имя приложения\n",
    "JOB_NAME = 'email-to-s3-ch-secret-1'\n",
    "client_manifest = mlp.get_default_manifest(cluster_id=CLUSTER_ID, job_name=JOB_NAME)\n",
    "\n",
    "client_manifest.job_name = JOB_NAME\n",
    "\n",
    "#Меняем дефолтные параметры на желаемые\n",
    "#Меняем число Spark executors и параметры executors\n",
    "client_manifest.set_executor_settings(\n",
    "    {\"instances\": 2, \"coreRequest\": \"1000m\", \"coreLimit\": \"2000m\", \"memory\":\"1024m\"}\n",
    ")\n",
    "\n",
    "#меняем настройки Spark driver\n",
    "client_manifest.set_driver_settings(\n",
    "    {\"coreLimit\": \"2\", \"coreRequest\": \"1000m\", \"coreLimit\": \"2000m\", \"memory\":\"1024m\"}\n",
    ")\n",
    "\n",
    "#Задаем переменные окружения для driver\n",
    "client_manifest.add_driver_env(\n",
    "    [\n",
    "        {\"name\": \"S3_INPUT_PATH\", \"value\": \"s3a://REPLACE_WITH_YOUR_BUCKET/datasets/email\"},\n",
    "        {\"name\": \"S3_OUTPUT_CORRECT_PATH\", \"value\": \"s3a://REPLACE_WITH_YOUR_BUCKET/datasets/correct_emails_using_secrets\"},\n",
    "        {\"name\": \"S3_OUTPUT_INCORRECT_PATH\", \"value\": \"s3a://REPLACE_WITH_YOUR_BUCKET/datasets/incorrect_email\"},\n",
    "        {\"name\": \"CH_OUTPUT_CORRECT_PATH\", \"value\": \"correct_emails_using_secrets\"}\n",
    "    ]\n",
    ")\n",
    "\n",
    "#Задаем переменные окружения для executors\n",
    "client_manifest.add_executor_env(\n",
    "    [\n",
    "        {\"name\": \"S3_INPUT_PATH\", \"value\": \"s3a://REPLACE_WITH_YOUR_BUCKET/datasets/email\"},\n",
    "        {\"name\": \"S3_OUTPUT_CORRECT_PATH\", \"value\": \"s3a://REPLACE_WITH_YOUR_BUCKET/datasets/correct_emails_using_secrets\"},\n",
    "        {\"name\": \"S3_OUTPUT_INCORRECT_PATH\", \"value\": \"s3a://REPLACE_WITH_YOUR_BUCKET/datasets/incorrect_email\"},\n",
    "        {\"name\": \"CH_OUTPUT_CORRECT_PATH\", \"value\": \"correct_emails_using_secrets\"}\n",
    "    ]\n",
    ")\n",
    "\n",
    "#Задаем переменные окружения из Secret для Driver и Executors\n",
    "client_manifest.add_driver_env_from([{\"secretRef\": {\"name\": \"ch-secret\"}}])\n",
    "client_manifest.add_executor_env_from([{\"secretRef\": {\"name\": \"ch-secret\"}}])\n",
    "\n",
    "#Указываем файл для запуска приложения в S3\n",
    "client_manifest.main_app_file = f\"s3a://REPLACE_WITH_YOUR_BUCKET/spark-files/email_to_s3_ch_secret.py\"\n",
    "\n",
    "# Добавим в зависимости jar-файл из s3-бакета\n",
    "client_manifest.add_jars([\"s3a://REPLACE_WITH_YOUR_BUCKET/spark-files/clickhouse-jdbc-0.5.0-shaded.jar\"])\n",
    "\n",
    "mlp.spark_submit_job(\n",
    "    cluster_id=CLUSTER_ID, \n",
    "    manifest=client_manifest, \n",
    ")\n"
   ]
  },
  {
   "cell_type": "code",
   "execution_count": null,
   "id": "678e3669-70d6-4608-ba2c-e2e230ad155e",
   "metadata": {
    "tags": []
   },
   "outputs": [],
   "source": [
    "#Выводим логи приложения\n",
    "logs = mlp.spark_job_logs(cluster_id=CLUSTER_ID, job_name=JOB_NAME)\n",
    "print(logs)"
   ]
  },
  {
   "cell_type": "code",
   "execution_count": null,
   "id": "3f09b0d5-8fe5-4c48-8029-4efcbba7a3b1",
   "metadata": {},
   "outputs": [],
   "source": [
    "#Выводим список всех запущенных приложений\n",
    "print('\\nСписок всех запущенных приложений')\n",
    "all_jobs = mlp.spark_jobs_list(CLUSTER_ID)\n",
    "print(all_jobs)"
   ]
  },
  {
   "cell_type": "code",
   "execution_count": null,
   "id": "1d4fe468-18c7-4033-b5ab-e34e97cd1abf",
   "metadata": {},
   "outputs": [],
   "source": [
    "#mlp.spark_delete_job(cluster_id=CLUSTER_ID, job_name=JOB_NAME)"
   ]
  },
  {
   "cell_type": "code",
   "execution_count": null,
   "id": "af4abfd8-c284-408c-8734-d074ef3fc0a8",
   "metadata": {},
   "outputs": [],
   "source": []
  },
  {
   "cell_type": "code",
   "execution_count": null,
   "id": "52ffc81c-b578-40cd-94c0-4d025979045d",
   "metadata": {},
   "outputs": [],
   "source": []
  },
  {
   "cell_type": "code",
   "execution_count": null,
   "id": "5bcc3b4d-6c64-4b3b-8805-c5202a4284ad",
   "metadata": {},
   "outputs": [],
   "source": [
    "#Troubleshooting\n",
    "#Учимся искать баги, отлаживать Spark приложения в K8s\n",
    "#Для этого используем следующие основные методы\n",
    "\n",
    "#Получаем общую информацию о статусе приложения\n",
    "#job_info = mlp.spark_job_info(cluster_id=CLUSTER_ID, job_name=JOB_NAME)\n",
    "#print(job_info)\n",
    "\n",
    "#Выводим детальную информацию о приложении со списком событий, связанных с приложением\n",
    "#job_details = mlp.describe_spark_job(cluster_id=CLUSTER_ID, job_name=JOB_NAME)\n",
    "#print(job_details)\n",
    "\n",
    "#Выводим логи приложения\n",
    "#logs = mlp.spark_job_logs(cluster_id=CLUSTER_ID, job_name=JOB_NAME)\n",
    "#print(logs)\n",
    "\n",
    "#Получаем список событий на кластере. Ищем события, связанные с нашим приложением или состоянием кластера\n",
    "#events = mlp.spark_events(CLUSTER_ID)\n",
    "#print(events)"
   ]
  },
  {
   "cell_type": "code",
   "execution_count": null,
   "id": "c82b36b2-4793-4038-b886-d97e53a186e1",
   "metadata": {
    "tags": []
   },
   "outputs": [],
   "source": [
    "#Меняем имя приложения\n",
    "JOB_NAME = 'email-to-s3-ch-secret-2'\n",
    "client_manifest = mlp.get_default_manifest(cluster_id=CLUSTER_ID, job_name=JOB_NAME)\n",
    "\n",
    "client_manifest.job_name = JOB_NAME\n",
    "\n",
    "#Меняем дефолтные параметры на желаемые\n",
    "#Меняем число Spark executors и параметры executors\n",
    "#Задаем слишком высокие требования по ядрам или памяти для того, чтобы приложение не запустилось \n",
    "#на этом примере учимся искать ошибку в событиях, логах\n",
    "client_manifest.set_executor_settings(\n",
    "    {\"instances\": 4, \"coreRequest\": \"15000m\", \"coreLimit\": \"16000m\", \"memory\":\"11024m\"}\n",
    ")\n",
    "\n",
    "#меняем настройки Spark driver\n",
    "client_manifest.set_driver_settings(\n",
    "    {\"coreLimit\": \"2\", \"cores\": 2, \"memory\":\"1024m\"}\n",
    ")\n",
    "\n",
    "#Задаем переменные окружения для driver\n",
    "client_manifest.add_driver_env(\n",
    "    [\n",
    "        {\"name\": \"S3_INPUT_PATH\", \"value\": \"s3a://REPLACE_WITH_YOUR_BUCKET/datasets/email\"},\n",
    "        {\"name\": \"S3_OUTPUT_CORRECT_PATH\", \"value\": \"s3a://REPLACE_WITH_YOUR_BUCKET/datasets/correct_emails_using_secrets\"},\n",
    "        {\"name\": \"S3_OUTPUT_INCORRECT_PATH\", \"value\": \"s3a://REPLACE_WITH_YOUR_BUCKET/datasets/incorrect_email\"},\n",
    "        {\"name\": \"CH_OUTPUT_CORRECT_PATH\", \"value\": \"correct_emails_using_secrets\"}\n",
    "    ]\n",
    ")\n",
    "\n",
    "#Задаем переменные окружения для executors\n",
    "client_manifest.add_executor_env(\n",
    "    [\n",
    "        {\"name\": \"S3_INPUT_PATH\", \"value\": \"s3a://REPLACE_WITH_YOUR_BUCKET/datasets/email\"},\n",
    "        {\"name\": \"S3_OUTPUT_CORRECT_PATH\", \"value\": \"s3a://REPLACE_WITH_YOUR_BUCKET/datasets/correct_emails_using_secrets\"},\n",
    "        {\"name\": \"S3_OUTPUT_INCORRECT_PATH\", \"value\": \"s3a://REPLACE_WITH_YOUR_BUCKET/datasets/incorrect_email\"},\n",
    "        {\"name\": \"CH_OUTPUT_CORRECT_PATH\", \"value\": \"correct_emails_using_secrets\"}\n",
    "    ]\n",
    ")\n",
    "\n",
    "#Задаем переменные окружения из Secret для Driver и Executors\n",
    "client_manifest.add_driver_env_from([{\"secretRef\": {\"name\": \"ch-secret\"}}])\n",
    "client_manifest.add_executor_env_from([{\"secretRef\": {\"name\": \"ch-secret\"}}])\n",
    "\n",
    "#Указываем файл для запуска приложения в S3\n",
    "client_manifest.main_app_file = f\"s3a://REPLACE_WITH_YOUR_BUCKET/spark-files/email_to_s3_ch_secret.py\"\n",
    "\n",
    "# Добавим в зависимости jar-файл из s3-бакета\n",
    "client_manifest.add_jars([\"s3a://REPLACE_WITH_YOUR_BUCKET/spark-files/clickhouse-jdbc-0.5.0-shaded.jar\"])\n",
    "\n",
    "mlp.spark_submit_job(\n",
    "    cluster_id=CLUSTER_ID, \n",
    "    manifest=client_manifest, \n",
    ")\n"
   ]
  },
  {
   "cell_type": "code",
   "execution_count": null,
   "id": "d069c2b4-d0de-456b-890a-64a4256dee52",
   "metadata": {
    "tags": []
   },
   "outputs": [],
   "source": [
    "print(client_manifest)"
   ]
  },
  {
   "cell_type": "code",
   "execution_count": null,
   "id": "cfb9137a-ef4e-4ea9-9158-4149e8902a58",
   "metadata": {
    "tags": []
   },
   "outputs": [],
   "source": [
    "#Получаем общую информацию о статусе приложения\n",
    "job_info = mlp.spark_job_info(cluster_id=CLUSTER_ID, job_name=JOB_NAME)\n",
    "print(job_info)"
   ]
  },
  {
   "cell_type": "code",
   "execution_count": null,
   "id": "72b82d32-4409-4922-bd54-03969372301e",
   "metadata": {
    "tags": []
   },
   "outputs": [],
   "source": [
    "#Выводим детальную информацию о приложении со списком событий, связанных с приложением\n",
    "#Изучаем данные в events\n",
    "job_details = mlp.describe_spark_job(cluster_id=CLUSTER_ID, job_name=JOB_NAME)\n",
    "print(job_details)"
   ]
  },
  {
   "cell_type": "code",
   "execution_count": null,
   "id": "cfd7aa6e-3234-428f-99a1-82daf49a3d0f",
   "metadata": {
    "tags": []
   },
   "outputs": [],
   "source": [
    "#Выводим логи приложения\n",
    "#В логах должно быть видно, что приложение зависло\n",
    "logs = mlp.spark_job_logs(cluster_id=CLUSTER_ID, job_name=JOB_NAME)\n",
    "print(logs)"
   ]
  },
  {
   "cell_type": "code",
   "execution_count": null,
   "id": "981685c9-f76e-4fcc-b13d-e340642bba86",
   "metadata": {
    "tags": []
   },
   "outputs": [],
   "source": [
    "#Получаем список событий на кластере\n",
    "#В списке событий на кластере ищем события, относящиеся к приложению и находим ошибку\n",
    "#В events должно появится сообщение относительно нехватки ресурсов для запуска Spark Executors\n",
    "events = mlp.spark_events(CLUSTER_ID)\n",
    "print(events)"
   ]
  },
  {
   "cell_type": "code",
   "execution_count": null,
   "id": "38b25411-e82b-4b60-b71c-dd93561a439b",
   "metadata": {
    "tags": []
   },
   "outputs": [],
   "source": [
    "#Выводим список всех запущенных приложений\n",
    "print('\\nСписок всех запущенных приложений')\n",
    "all_jobs = mlp.spark_jobs_list(CLUSTER_ID)\n",
    "print(all_jobs)"
   ]
  },
  {
   "cell_type": "code",
   "execution_count": null,
   "id": "0fc90ce7-5f33-4db2-a9da-4bfa700a5691",
   "metadata": {
    "tags": []
   },
   "outputs": [],
   "source": [
    "#Удаляем приложение после завершения обучения\n",
    "mlp.spark_delete_job(cluster_id=CLUSTER_ID, job_name=JOB_NAME)"
   ]
  },
  {
   "cell_type": "code",
   "execution_count": null,
   "id": "c358bdb0-2780-4ef5-8d86-0b1032b0d7b5",
   "metadata": {},
   "outputs": [],
   "source": []
  },
  {
   "cell_type": "code",
   "execution_count": null,
   "id": "33fa8c5a-00b0-4941-900e-b2f8825be997",
   "metadata": {},
   "outputs": [],
   "source": []
  },
  {
   "cell_type": "code",
   "execution_count": null,
   "id": "c14d5a16-1c97-4faa-b7ee-05125ce4194f",
   "metadata": {},
   "outputs": [],
   "source": [
    "#Для получения помощи можно использовать методы, указанные ниже и документацию\n",
    "https://cloud.vk.com/docs/ru/ml/spark-to-k8s"
   ]
  },
  {
   "cell_type": "code",
   "execution_count": null,
   "id": "a942a0cc-d194-4afe-950a-b74b88e1c4ed",
   "metadata": {},
   "outputs": [],
   "source": [
    "#Выводим help по конкретному методу\n",
    "help(client_manifest.set_executor_settings)"
   ]
  },
  {
   "cell_type": "code",
   "execution_count": null,
   "id": "59c624d9-cd13-45a1-ba60-2e369272e36d",
   "metadata": {
    "tags": []
   },
   "outputs": [],
   "source": [
    "#Выводим help по объекту client_manifest\n",
    "help(client_manifest)"
   ]
  },
  {
   "cell_type": "code",
   "execution_count": null,
   "id": "c4140f14-9946-4d75-b52b-ece0d3b520c0",
   "metadata": {},
   "outputs": [],
   "source": [
    "#Выводим help по всей библиотеке\n",
    "import mlplatform_client\n",
    "\n",
    "help(mlplatform_client)"
   ]
  }
 ],
 "metadata": {
  "kernelspec": {
   "display_name": "Python 3 (ipykernel)",
   "language": "python",
   "name": "python3"
  },
  "language_info": {
   "codemirror_mode": {
    "name": "ipython",
    "version": 3
   },
   "file_extension": ".py",
   "mimetype": "text/x-python",
   "name": "python",
   "nbconvert_exporter": "python",
   "pygments_lexer": "ipython3",
   "version": "3.9.7"
  }
 },
 "nbformat": 4,
 "nbformat_minor": 5
}
